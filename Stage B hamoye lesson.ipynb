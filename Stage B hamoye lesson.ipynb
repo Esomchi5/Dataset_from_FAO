{
 "cells": [
  {
   "cell_type": "code",
   "execution_count": 1,
   "id": "d9ad0692",
   "metadata": {},
   "outputs": [
    {
     "name": "stderr",
     "output_type": "stream",
     "text": [
      "UsageError: Line magic function `%` not found.\n"
     ]
    }
   ],
   "source": [
    "import pandas as pd\n",
    "import numpy as np \n",
    "import matplotlib.pyplot as plt\n",
    "import seaborn as sns\n",
    "# % matplotlib "
   ]
  },
  {
   "cell_type": "code",
   "execution_count": 2,
   "id": "ff4b59e4",
   "metadata": {},
   "outputs": [
    {
     "data": {
      "text/html": [
       "<div>\n",
       "<style scoped>\n",
       "    .dataframe tbody tr th:only-of-type {\n",
       "        vertical-align: middle;\n",
       "    }\n",
       "\n",
       "    .dataframe tbody tr th {\n",
       "        vertical-align: top;\n",
       "    }\n",
       "\n",
       "    .dataframe thead th {\n",
       "        text-align: right;\n",
       "    }\n",
       "</style>\n",
       "<table border=\"1\" class=\"dataframe\">\n",
       "  <thead>\n",
       "    <tr style=\"text-align: right;\">\n",
       "      <th></th>\n",
       "      <th>X1</th>\n",
       "      <th>X2</th>\n",
       "      <th>X3</th>\n",
       "      <th>X4</th>\n",
       "      <th>X5</th>\n",
       "      <th>X6</th>\n",
       "      <th>X7</th>\n",
       "      <th>X8</th>\n",
       "      <th>Y1</th>\n",
       "      <th>Y2</th>\n",
       "    </tr>\n",
       "  </thead>\n",
       "  <tbody>\n",
       "    <tr>\n",
       "      <th>0</th>\n",
       "      <td>0.98</td>\n",
       "      <td>514.5</td>\n",
       "      <td>294.0</td>\n",
       "      <td>110.25</td>\n",
       "      <td>7.0</td>\n",
       "      <td>2</td>\n",
       "      <td>0.0</td>\n",
       "      <td>0</td>\n",
       "      <td>15.55</td>\n",
       "      <td>21.33</td>\n",
       "    </tr>\n",
       "    <tr>\n",
       "      <th>1</th>\n",
       "      <td>0.98</td>\n",
       "      <td>514.5</td>\n",
       "      <td>294.0</td>\n",
       "      <td>110.25</td>\n",
       "      <td>7.0</td>\n",
       "      <td>3</td>\n",
       "      <td>0.0</td>\n",
       "      <td>0</td>\n",
       "      <td>15.55</td>\n",
       "      <td>21.33</td>\n",
       "    </tr>\n",
       "    <tr>\n",
       "      <th>2</th>\n",
       "      <td>0.98</td>\n",
       "      <td>514.5</td>\n",
       "      <td>294.0</td>\n",
       "      <td>110.25</td>\n",
       "      <td>7.0</td>\n",
       "      <td>4</td>\n",
       "      <td>0.0</td>\n",
       "      <td>0</td>\n",
       "      <td>15.55</td>\n",
       "      <td>21.33</td>\n",
       "    </tr>\n",
       "    <tr>\n",
       "      <th>3</th>\n",
       "      <td>0.98</td>\n",
       "      <td>514.5</td>\n",
       "      <td>294.0</td>\n",
       "      <td>110.25</td>\n",
       "      <td>7.0</td>\n",
       "      <td>5</td>\n",
       "      <td>0.0</td>\n",
       "      <td>0</td>\n",
       "      <td>15.55</td>\n",
       "      <td>21.33</td>\n",
       "    </tr>\n",
       "    <tr>\n",
       "      <th>4</th>\n",
       "      <td>0.90</td>\n",
       "      <td>563.5</td>\n",
       "      <td>318.5</td>\n",
       "      <td>122.50</td>\n",
       "      <td>7.0</td>\n",
       "      <td>2</td>\n",
       "      <td>0.0</td>\n",
       "      <td>0</td>\n",
       "      <td>20.84</td>\n",
       "      <td>28.28</td>\n",
       "    </tr>\n",
       "  </tbody>\n",
       "</table>\n",
       "</div>"
      ],
      "text/plain": [
       "     X1     X2     X3      X4   X5  X6   X7  X8     Y1     Y2\n",
       "0  0.98  514.5  294.0  110.25  7.0   2  0.0   0  15.55  21.33\n",
       "1  0.98  514.5  294.0  110.25  7.0   3  0.0   0  15.55  21.33\n",
       "2  0.98  514.5  294.0  110.25  7.0   4  0.0   0  15.55  21.33\n",
       "3  0.98  514.5  294.0  110.25  7.0   5  0.0   0  15.55  21.33\n",
       "4  0.90  563.5  318.5  122.50  7.0   2  0.0   0  20.84  28.28"
      ]
     },
     "execution_count": 2,
     "metadata": {},
     "output_type": "execute_result"
    }
   ],
   "source": [
    "df = pd.read_excel(\"ENB2012_data.xlsx\")\n",
    "df.head()"
   ]
  },
  {
   "cell_type": "code",
   "execution_count": 10,
   "id": "ec88c156",
   "metadata": {},
   "outputs": [
    {
     "data": {
      "text/html": [
       "<div>\n",
       "<style scoped>\n",
       "    .dataframe tbody tr th:only-of-type {\n",
       "        vertical-align: middle;\n",
       "    }\n",
       "\n",
       "    .dataframe tbody tr th {\n",
       "        vertical-align: top;\n",
       "    }\n",
       "\n",
       "    .dataframe thead th {\n",
       "        text-align: right;\n",
       "    }\n",
       "</style>\n",
       "<table border=\"1\" class=\"dataframe\">\n",
       "  <thead>\n",
       "    <tr style=\"text-align: right;\">\n",
       "      <th></th>\n",
       "      <th>Relative_Compactness</th>\n",
       "      <th>Surface_Area</th>\n",
       "      <th>Wall_Area</th>\n",
       "      <th>Roof_Area</th>\n",
       "      <th>Overall_Height</th>\n",
       "      <th>Orientation</th>\n",
       "      <th>Glazing_Area</th>\n",
       "      <th>Glazing_Area_Distribution</th>\n",
       "      <th>Heating_Load</th>\n",
       "      <th>Cooling_Load</th>\n",
       "    </tr>\n",
       "  </thead>\n",
       "  <tbody>\n",
       "    <tr>\n",
       "      <th>763</th>\n",
       "      <td>0.64</td>\n",
       "      <td>784.0</td>\n",
       "      <td>343.0</td>\n",
       "      <td>220.5</td>\n",
       "      <td>3.5</td>\n",
       "      <td>5</td>\n",
       "      <td>0.4</td>\n",
       "      <td>5</td>\n",
       "      <td>17.88</td>\n",
       "      <td>21.40</td>\n",
       "    </tr>\n",
       "    <tr>\n",
       "      <th>764</th>\n",
       "      <td>0.62</td>\n",
       "      <td>808.5</td>\n",
       "      <td>367.5</td>\n",
       "      <td>220.5</td>\n",
       "      <td>3.5</td>\n",
       "      <td>2</td>\n",
       "      <td>0.4</td>\n",
       "      <td>5</td>\n",
       "      <td>16.54</td>\n",
       "      <td>16.88</td>\n",
       "    </tr>\n",
       "    <tr>\n",
       "      <th>765</th>\n",
       "      <td>0.62</td>\n",
       "      <td>808.5</td>\n",
       "      <td>367.5</td>\n",
       "      <td>220.5</td>\n",
       "      <td>3.5</td>\n",
       "      <td>3</td>\n",
       "      <td>0.4</td>\n",
       "      <td>5</td>\n",
       "      <td>16.44</td>\n",
       "      <td>17.11</td>\n",
       "    </tr>\n",
       "    <tr>\n",
       "      <th>766</th>\n",
       "      <td>0.62</td>\n",
       "      <td>808.5</td>\n",
       "      <td>367.5</td>\n",
       "      <td>220.5</td>\n",
       "      <td>3.5</td>\n",
       "      <td>4</td>\n",
       "      <td>0.4</td>\n",
       "      <td>5</td>\n",
       "      <td>16.48</td>\n",
       "      <td>16.61</td>\n",
       "    </tr>\n",
       "    <tr>\n",
       "      <th>767</th>\n",
       "      <td>0.62</td>\n",
       "      <td>808.5</td>\n",
       "      <td>367.5</td>\n",
       "      <td>220.5</td>\n",
       "      <td>3.5</td>\n",
       "      <td>5</td>\n",
       "      <td>0.4</td>\n",
       "      <td>5</td>\n",
       "      <td>16.64</td>\n",
       "      <td>16.03</td>\n",
       "    </tr>\n",
       "  </tbody>\n",
       "</table>\n",
       "</div>"
      ],
      "text/plain": [
       "     Relative_Compactness  Surface_Area  Wall_Area  Roof_Area  Overall_Height  \\\n",
       "763                  0.64         784.0      343.0      220.5             3.5   \n",
       "764                  0.62         808.5      367.5      220.5             3.5   \n",
       "765                  0.62         808.5      367.5      220.5             3.5   \n",
       "766                  0.62         808.5      367.5      220.5             3.5   \n",
       "767                  0.62         808.5      367.5      220.5             3.5   \n",
       "\n",
       "     Orientation  Glazing_Area  Glazing_Area_Distribution  Heating_Load  \\\n",
       "763            5           0.4                          5         17.88   \n",
       "764            2           0.4                          5         16.54   \n",
       "765            3           0.4                          5         16.44   \n",
       "766            4           0.4                          5         16.48   \n",
       "767            5           0.4                          5         16.64   \n",
       "\n",
       "     Cooling_Load  \n",
       "763         21.40  \n",
       "764         16.88  \n",
       "765         17.11  \n",
       "766         16.61  \n",
       "767         16.03  "
      ]
     },
     "execution_count": 10,
     "metadata": {},
     "output_type": "execute_result"
    }
   ],
   "source": [
    "#renaming columns\n",
    "\n",
    "column_names = {\"X1\":'Relative_Compactness', 'X2': 'Surface_Area',\n",
    "'X3': 'Wall_Area', 'X4': 'Roof_Area', 'X5': 'Overall_Height',\n",
    "'X6': 'Orientation', 'X7': 'Glazing_Area',\n",
    "'X8': 'Glazing_Area_Distribution', \"Y1\": 'Heating_Load', \"Y2\": 'Cooling_Load'}\n",
    "\n",
    "df.rename(columns=column_names, inplace=True)\n",
    "df.tail()"
   ]
  },
  {
   "cell_type": "code",
   "execution_count": 19,
   "id": "808a3962",
   "metadata": {},
   "outputs": [
    {
     "name": "stdout",
     "output_type": "stream",
     "text": [
      "     Relative_Compactness  Cooling_Load\n",
      "568                  0.64         22.72\n",
      "620                  0.62         17.36\n",
      "456                  0.74         14.92\n",
      "197                  0.90         33.91\n",
      "714                  0.64         22.25\n",
      "27                   0.74         11.17\n",
      "277                  0.66         14.81\n",
      "64                   0.79         41.68\n",
      "720                  0.98         32.88\n",
      "475                  0.64         19.90\n",
      "482                  0.98         30.00\n",
      "555                  0.74         17.25\n",
      "43                   0.64         16.67\n",
      "161                  0.79         41.22\n",
      "400                  0.79         45.13\n",
      "660                  0.66         17.04\n",
      "549                  0.76         40.85\n",
      "273                  0.69         14.28\n",
      "302                  0.82         27.25\n",
      "45                   0.62         12.22\n"
     ]
    }
   ],
   "source": [
    "# selecting a part for plotting\n",
    "\n",
    "Selected = df[[\"Relative_Compactness\", \"Cooling_Load\"]].sample(20, random_state=10)\n",
    "\n",
    "print(Selected)"
   ]
  },
  {
   "cell_type": "code",
   "execution_count": 20,
   "id": "67ed257d",
   "metadata": {},
   "outputs": [
    {
     "data": {
      "text/plain": [
       "<AxesSubplot:xlabel='Relative_Compactness', ylabel='Cooling_Load'>"
      ]
     },
     "execution_count": 20,
     "metadata": {},
     "output_type": "execute_result"
    },
    {
     "data": {
      "image/png": "[encoded data removed]",
      "text/plain": [
       "<Figure size 432x288 with 1 Axes>"
      ]
     },
     "metadata": {
      "needs_background": "light"
     },
     "output_type": "display_data"
    }
   ],
   "source": [
    "#plotting proper\n",
    "\n",
    "sns.regplot(x=\"Relative_Compactness\", y=\"Cooling_Load\", \n",
    "           data=Selected)"
   ]
  },
  {
   "cell_type": "code",
   "execution_count": 21,
   "id": "4f18302b",
   "metadata": {},
   "outputs": [
    {
     "name": "stdout",
     "output_type": "stream",
     "text": [
      "MinMaxScaler()\n"
     ]
    }
   ],
   "source": [
    "# Measuring regression performance\n",
    "\n",
    "# Mean Absolute Error\n",
    "\n",
    "# First, we normalize our data by making sure that \n",
    "# all values in a column are integers or floats.\n",
    "# We do this because, the machine works preferably with digits\n",
    "\n",
    "#normalizing with MinMaxScaler\n",
    "from sklearn.preprocessing import MinMaxScaler\n",
    "\n",
    "scaler = MinMaxScaler()\n",
    "print(scaler)"
   ]
  },
  {
   "cell_type": "code",
   "execution_count": 35,
   "id": "7ce6b1f1",
   "metadata": {},
   "outputs": [
    {
     "name": "stdout",
     "output_type": "stream",
     "text": [
      "     Relative_Compactness  Surface_Area  Wall_Area  Roof_Area  Overall_Height  \\\n",
      "0                1.000000      0.000000   0.285714   0.000000             1.0   \n",
      "1                1.000000      0.000000   0.285714   0.000000             1.0   \n",
      "2                1.000000      0.000000   0.285714   0.000000             1.0   \n",
      "3                1.000000      0.000000   0.285714   0.000000             1.0   \n",
      "4                0.777778      0.166667   0.428571   0.111111             1.0   \n",
      "..                    ...           ...        ...        ...             ...   \n",
      "763              0.055556      0.916667   0.571429   1.000000             0.0   \n",
      "764              0.000000      1.000000   0.714286   1.000000             0.0   \n",
      "765              0.000000      1.000000   0.714286   1.000000             0.0   \n",
      "766              0.000000      1.000000   0.714286   1.000000             0.0   \n",
      "767              0.000000      1.000000   0.714286   1.000000             0.0   \n",
      "\n",
      "     Orientation  Glazing_Area  Glazing_Area_Distribution  Heating_Load  \\\n",
      "0       0.000000           0.0                        0.0      0.257212   \n",
      "1       0.333333           0.0                        0.0      0.257212   \n",
      "2       0.666667           0.0                        0.0      0.257212   \n",
      "3       1.000000           0.0                        0.0      0.257212   \n",
      "4       0.000000           0.0                        0.0      0.399838   \n",
      "..           ...           ...                        ...           ...   \n",
      "763     1.000000           1.0                        1.0      0.320032   \n",
      "764     0.000000           1.0                        1.0      0.283904   \n",
      "765     0.333333           1.0                        1.0      0.281208   \n",
      "766     0.666667           1.0                        1.0      0.282286   \n",
      "767     1.000000           1.0                        1.0      0.286600   \n",
      "\n",
      "     Cooling_Load  \n",
      "0        0.280905  \n",
      "1        0.280905  \n",
      "2        0.280905  \n",
      "3        0.280905  \n",
      "4        0.468085  \n",
      "..            ...  \n",
      "763      0.282790  \n",
      "764      0.161056  \n",
      "765      0.167250  \n",
      "766      0.153784  \n",
      "767      0.138163  \n",
      "\n",
      "[768 rows x 10 columns]\n"
     ]
    }
   ],
   "source": [
    "normalised_df = pd.DataFrame(scaler.fit_transform(df), columns=df.columns)\n",
    "features_df = normalised_df.drop(columns=['Cooling_Load', 'Heating_Load'])\n",
    "heating_target = normalised_df['Heating_Load']\n",
    "cooling_target = normalised_df[\"Cooling_Load\"]\n",
    "print(normalised_df)"
   ]
  },
  {
   "cell_type": "code",
   "execution_count": 39,
   "id": "3eda8f56",
   "metadata": {},
   "outputs": [],
   "source": [
    "# Spliting the data into training and testing datasets\n",
    "\n",
    "from sklearn.model_selection import train_test_split\n",
    "\n",
    "x_train, x_test, y_train, y_test = train_test_split(features_df, heating_target, test_size=.2, random_state=3)\n",
    "\n",
    "from sklearn.linear_model import LinearRegression\n",
    "model = LinearRegression()\n",
    "\n",
    "# fit data to linear model\n",
    "model.fit(x_train, y_train)\n",
    "\n",
    "# obtain predictions by testing\n",
    "predicted_values = model.predict(x_test)\n",
    "#print(predicted_values)"
   ]
  },
  {
   "cell_type": "code",
   "execution_count": 41,
   "id": "0ee8260c",
   "metadata": {},
   "outputs": [
    {
     "name": "stdout",
     "output_type": "stream",
     "text": [
      "0.05696722964709063\n",
      "0.0766550269300534\n"
     ]
    }
   ],
   "source": [
    "# checking for errors\n",
    "# mean_absolute_error and root_mean_squared_error\n",
    "from sklearn.metrics import mean_absolute_error, mean_squared_error\n",
    "\n",
    "mae = mean_absolute_error(y_test, predicted_values)\n",
    "rmse= np.sqrt(mean_squared_error(y_test, predicted_values))\n",
    "\n",
    "print(mae)\n",
    "print(rmse)"
   ]
  },
  {
   "cell_type": "code",
   "execution_count": 45,
   "id": "1d1c90c5",
   "metadata": {},
   "outputs": [
    {
     "name": "stdout",
     "output_type": "stream",
     "text": [
      "5.0723\n",
      "0.559\n"
     ]
    }
   ],
   "source": [
    "# for residual sum of squares and R-squared errors\n",
    "from sklearn.metrics import r2_score\n",
    "\n",
    "rss = np.sum(np.square(y_test-predicted_values))\n",
    "r2e = r2_score(y_test, predicted_values)\n",
    "\n",
    "print(round(rss, 4))\n",
    "print(round(r2e, 3))"
   ]
  },
  {
   "cell_type": "code",
   "execution_count": 46,
   "id": "2d936dea",
   "metadata": {},
   "outputs": [
    {
     "data": {
      "text/plain": [
       "Ridge(alpha=0.5)"
      ]
     },
     "execution_count": 46,
     "metadata": {},
     "output_type": "execute_result"
    }
   ],
   "source": [
    "# Regularization and Penalization methods\n",
    "# Ridge regression\n",
    "from sklearn.linear_model import Ridge\n",
    "\n",
    "ridge_reg = Ridge(alpha=.5)\n",
    "ridge_reg.fit(x_train, y_train)"
   ]
  },
  {
   "cell_type": "code",
   "execution_count": 48,
   "id": "a9d545ad",
   "metadata": {},
   "outputs": [
    {
     "data": {
      "text/plain": [
       "Lasso(alpha=0.0001)"
      ]
     },
     "execution_count": 48,
     "metadata": {},
     "output_type": "execute_result"
    }
   ],
   "source": [
    "# Lasso regression and feature selection\n",
    "from sklearn.linear_model import Lasso\n",
    "\n",
    "lasso_reg = Lasso(alpha=.0001)\n",
    "lasso_reg.fit(x_train, y_train)"
   ]
  },
  {
   "cell_type": "code",
   "execution_count": 52,
   "id": "98a065f5",
   "metadata": {},
   "outputs": [
    {
     "data": {
      "text/html": [
       "<div>\n",
       "<style scoped>\n",
       "    .dataframe tbody tr th:only-of-type {\n",
       "        vertical-align: middle;\n",
       "    }\n",
       "\n",
       "    .dataframe tbody tr th {\n",
       "        vertical-align: top;\n",
       "    }\n",
       "\n",
       "    .dataframe thead th {\n",
       "        text-align: right;\n",
       "    }\n",
       "</style>\n",
       "<table border=\"1\" class=\"dataframe\">\n",
       "  <thead>\n",
       "    <tr style=\"text-align: right;\">\n",
       "      <th></th>\n",
       "      <th>Features</th>\n",
       "      <th>Linear_Model_Weight</th>\n",
       "      <th>Ridge_Weight</th>\n",
       "      <th>Lasso_weight</th>\n",
       "    </tr>\n",
       "  </thead>\n",
       "  <tbody>\n",
       "    <tr>\n",
       "      <th>0</th>\n",
       "      <td>Roof_Area</td>\n",
       "      <td>-3.894073e+12</td>\n",
       "      <td>-0.159859</td>\n",
       "      <td>-0.286314</td>\n",
       "    </tr>\n",
       "    <tr>\n",
       "      <th>1</th>\n",
       "      <td>Wall_Area</td>\n",
       "      <td>-3.028724e+12</td>\n",
       "      <td>0.094900</td>\n",
       "      <td>-0.000000</td>\n",
       "    </tr>\n",
       "    <tr>\n",
       "      <th>2</th>\n",
       "      <td>Relative_Compactness</td>\n",
       "      <td>-6.465286e-01</td>\n",
       "      <td>-0.313953</td>\n",
       "      <td>-0.415765</td>\n",
       "    </tr>\n",
       "    <tr>\n",
       "      <th>3</th>\n",
       "      <td>Orientation</td>\n",
       "      <td>-1.884460e-03</td>\n",
       "      <td>-0.001514</td>\n",
       "      <td>-0.000632</td>\n",
       "    </tr>\n",
       "    <tr>\n",
       "      <th>4</th>\n",
       "      <td>Glazing_Area_Distribution</td>\n",
       "      <td>2.870178e-02</td>\n",
       "      <td>0.029281</td>\n",
       "      <td>0.028474</td>\n",
       "    </tr>\n",
       "    <tr>\n",
       "      <th>5</th>\n",
       "      <td>Glazing_Area</td>\n",
       "      <td>2.188244e-01</td>\n",
       "      <td>0.216946</td>\n",
       "      <td>0.217816</td>\n",
       "    </tr>\n",
       "    <tr>\n",
       "      <th>6</th>\n",
       "      <td>Overall_Height</td>\n",
       "      <td>4.116211e-01</td>\n",
       "      <td>0.462371</td>\n",
       "      <td>0.458974</td>\n",
       "    </tr>\n",
       "    <tr>\n",
       "      <th>7</th>\n",
       "      <td>Surface_Area</td>\n",
       "      <td>5.192098e+12</td>\n",
       "      <td>-0.064536</td>\n",
       "      <td>-0.000000</td>\n",
       "    </tr>\n",
       "  </tbody>\n",
       "</table>\n",
       "</div>"
      ],
      "text/plain": [
       "                    Features  Linear_Model_Weight  Ridge_Weight  Lasso_weight\n",
       "0                  Roof_Area        -3.894073e+12     -0.159859     -0.286314\n",
       "1                  Wall_Area        -3.028724e+12      0.094900     -0.000000\n",
       "2       Relative_Compactness        -6.465286e-01     -0.313953     -0.415765\n",
       "3                Orientation        -1.884460e-03     -0.001514     -0.000632\n",
       "4  Glazing_Area_Distribution         2.870178e-02      0.029281      0.028474\n",
       "5               Glazing_Area         2.188244e-01      0.216946      0.217816\n",
       "6             Overall_Height         4.116211e-01      0.462371      0.458974\n",
       "7               Surface_Area         5.192098e+12     -0.064536     -0.000000"
      ]
     },
     "execution_count": 52,
     "metadata": {},
     "output_type": "execute_result"
    }
   ],
   "source": [
    "#comparing the effects of regularisation\n",
    "def get_weights_df(model, feat, col_name):\n",
    "#this function returns the weight of every feature\n",
    "    weights = pd.Series(model.coef_, feat.columns).sort_values()\n",
    "    weights_df = pd.DataFrame(weights).reset_index()\n",
    "    weights_df.columns = ['Features', col_name]\n",
    "    weights_df[col_name].round(3)\n",
    "    return weights_df\n",
    "\n",
    "linear_model_weights = get_weights_df(model, x_train, 'Linear_Model_Weight')\n",
    "ridge_weights_df = get_weights_df(ridge_reg, x_train, 'Ridge_Weight')\n",
    "lasso_weights_df = get_weights_df(lasso_reg, x_train, 'Lasso_weight')\n",
    "\n",
    "final_weights = pd.merge(linear_model_weights, ridge_weights_df, on='Features')\n",
    "final_weights = pd.merge(final_weights, lasso_weights_df, on='Features')\n",
    "\n",
    "\n",
    "final_weights"
   ]
  },
  {
   "cell_type": "code",
   "execution_count": null,
   "id": "9f769a3a",
   "metadata": {},
   "outputs": [],
   "source": []
  }
 ],
 "metadata": {
  "kernelspec": {
   "display_name": "Python 3 (ipykernel)",
   "language": "python",
   "name": "python3"
  },
  "language_info": {
   "codemirror_mode": {
    "name": "ipython",
    "version": 3
   },
   "file_extension": ".py",
   "mimetype": "text/x-python",
   "name": "python",
   "nbconvert_exporter": "python",
   "pygments_lexer": "ipython3",
   "version": "3.9.12"
  }
 },
 "nbformat": 4,
 "nbformat_minor": 5
}
