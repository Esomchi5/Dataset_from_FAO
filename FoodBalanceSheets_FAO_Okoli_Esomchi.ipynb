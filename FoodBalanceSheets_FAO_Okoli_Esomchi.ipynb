{
 "cells": [
  {
   "cell_type": "code",
   "execution_count": 13,
   "id": "0d9320d7",
   "metadata": {
    "scrolled": true
   },
   "outputs": [
    {
     "name": "stderr",
     "output_type": "stream",
     "text": [
      "C:\\Users\\ESOMCHI\\AppData\\Local\\Temp\\ipykernel_2748\\415055392.py:6: FutureWarning: The error_bad_lines argument has been deprecated and will be removed in a future version. Use on_bad_lines in the future.\n",
      "\n",
      "\n",
      "  food_data = pd.read_csv(path, error_bad_lines=False, encoding=\"latin-1\")\n",
      "C:\\Users\\ESOMCHI\\AppData\\Local\\Temp\\ipykernel_2748\\415055392.py:6: DtypeWarning: Columns (2,4,7,8,9,10,11) have mixed types. Specify dtype option on import or set low_memory=False.\n",
      "  food_data = pd.read_csv(path, error_bad_lines=False, encoding=\"latin-1\")\n"
     ]
    },
    {
     "ename": "AttributeError",
     "evalue": "'DataFrame' object has no attribute 'Y2015'",
     "output_type": "error",
     "traceback": [
      "\u001b[1;31m---------------------------------------------------------------------------\u001b[0m",
      "\u001b[1;31mAttributeError\u001b[0m                            Traceback (most recent call last)",
      "Input \u001b[1;32mIn [13]\u001b[0m, in \u001b[0;36m<cell line: 17>\u001b[1;34m()\u001b[0m\n\u001b[0;32m      6\u001b[0m food_data \u001b[38;5;241m=\u001b[39m pd\u001b[38;5;241m.\u001b[39mread_csv(path, error_bad_lines\u001b[38;5;241m=\u001b[39m\u001b[38;5;28;01mFalse\u001b[39;00m, encoding\u001b[38;5;241m=\u001b[39m\u001b[38;5;124m\"\u001b[39m\u001b[38;5;124mlatin-1\u001b[39m\u001b[38;5;124m\"\u001b[39m)\n\u001b[0;32m      8\u001b[0m  \u001b[38;5;66;03m#inspecting the data on the dataframe\u001b[39;00m\n\u001b[0;32m      9\u001b[0m \u001b[38;5;66;03m#food_data.describe(include=\"all\")\u001b[39;00m\n\u001b[0;32m     10\u001b[0m \u001b[38;5;66;03m#food_data.tail()\u001b[39;00m\n\u001b[1;32m   (...)\u001b[0m\n\u001b[0;32m     15\u001b[0m \n\u001b[0;32m     16\u001b[0m  \u001b[38;5;66;03m#question 12\u001b[39;00m\n\u001b[1;32m---> 17\u001b[0m \u001b[38;5;28mprint\u001b[39m(\u001b[43mfood_data\u001b[49m\u001b[38;5;241;43m.\u001b[39;49m\u001b[43mY2015\u001b[49m\u001b[38;5;241m.\u001b[39mmean())\n\u001b[0;32m     18\u001b[0m \u001b[38;5;28mprint\u001b[39m(food_data\u001b[38;5;241m.\u001b[39mY2015\u001b[38;5;241m.\u001b[39mstd())\n\u001b[0;32m     20\u001b[0m  \u001b[38;5;66;03m#question 13\u001b[39;00m\n",
      "File \u001b[1;32mC:\\ProgramData\\Anaconda3\\lib\\site-packages\\pandas\\core\\generic.py:5575\u001b[0m, in \u001b[0;36mNDFrame.__getattr__\u001b[1;34m(self, name)\u001b[0m\n\u001b[0;32m   5568\u001b[0m \u001b[38;5;28;01mif\u001b[39;00m (\n\u001b[0;32m   5569\u001b[0m     name \u001b[38;5;129;01mnot\u001b[39;00m \u001b[38;5;129;01min\u001b[39;00m \u001b[38;5;28mself\u001b[39m\u001b[38;5;241m.\u001b[39m_internal_names_set\n\u001b[0;32m   5570\u001b[0m     \u001b[38;5;129;01mand\u001b[39;00m name \u001b[38;5;129;01mnot\u001b[39;00m \u001b[38;5;129;01min\u001b[39;00m \u001b[38;5;28mself\u001b[39m\u001b[38;5;241m.\u001b[39m_metadata\n\u001b[0;32m   5571\u001b[0m     \u001b[38;5;129;01mand\u001b[39;00m name \u001b[38;5;129;01mnot\u001b[39;00m \u001b[38;5;129;01min\u001b[39;00m \u001b[38;5;28mself\u001b[39m\u001b[38;5;241m.\u001b[39m_accessors\n\u001b[0;32m   5572\u001b[0m     \u001b[38;5;129;01mand\u001b[39;00m \u001b[38;5;28mself\u001b[39m\u001b[38;5;241m.\u001b[39m_info_axis\u001b[38;5;241m.\u001b[39m_can_hold_identifiers_and_holds_name(name)\n\u001b[0;32m   5573\u001b[0m ):\n\u001b[0;32m   5574\u001b[0m     \u001b[38;5;28;01mreturn\u001b[39;00m \u001b[38;5;28mself\u001b[39m[name]\n\u001b[1;32m-> 5575\u001b[0m \u001b[38;5;28;01mreturn\u001b[39;00m \u001b[38;5;28;43mobject\u001b[39;49m\u001b[38;5;241;43m.\u001b[39;49m\u001b[38;5;21;43m__getattribute__\u001b[39;49m\u001b[43m(\u001b[49m\u001b[38;5;28;43mself\u001b[39;49m\u001b[43m,\u001b[49m\u001b[43m \u001b[49m\u001b[43mname\u001b[49m\u001b[43m)\u001b[49m\n",
      "\u001b[1;31mAttributeError\u001b[0m: 'DataFrame' object has no attribute 'Y2015'"
     ]
    }
   ],
   "source": [
    "import numpy as np\n",
    "import pandas as pd\n",
    "\n",
    " #reading the csv file and initializing pandas dataframe\n",
    "path = \"FoodBalanceSheets_E_Africa_NOFLAG.csv\"\n",
    "food_data = pd.read_csv(path, error_bad_lines=False, encoding=\"latin-1\")\n",
    "\n",
    " #inspecting the data on the dataframe\n",
    "#food_data.describe(include=\"all\")\n",
    "#food_data.tail()\n",
    "#food_data.head()\n",
    "\n",
    " #question 11\n",
    "#print(food_data.groupby([\"Item\"]).sum())      \n",
    "\n",
    " #question 12\n",
    "print(food_data.Y2015.mean())\n",
    "print(food_data.Y2015.std())\n",
    "\n",
    " #question 13\n",
    "total_available = food_data[\"Y2016\"].count()\n",
    "print(total_available)\n",
    "\n",
    "#from df.shape\n",
    "print(df.shape[0])\n",
    "total = df.shape[0]\n",
    "\n",
    "null_total = food_data[\"Y2016\"].isnull().sum()\n",
    "print(null_total)\n",
    "\n",
    "percent = (null_total/total) * 100\n",
    "print(percent)\n",
    "\n",
    " #question 14\n",
    "print(food_data.corr(method=\"pearson\"))\n",
    "\n",
    " #question 15\n",
    "print(food_data.groupby([\"Element\"]).sum())\n",
    "\n",
    " #question 16\n",
    "print(food_data.groupby([\"Element\"]).sum())\n",
    "\n",
    " #question 17\n",
    "print(food_data.groupby([\"Element\"]).sum())\n",
    "\n",
    " #question 18\n",
    "print(food_data.groupby([\"Element\"]).sum())\n",
    "\n",
    " #question 19 \n",
    "print(food_data.groupby([\"Area\", \"Element\"]).sum().head(9))\n",
    "\n",
    " #question 20\n",
    "list_of_countries = []\n",
    "count = 0\n",
    "for country in food_data.Area:\n",
    "    if country not in list_of_countries:\n",
    "        list_of_countries.append(country)\n",
    "        count += 1\n",
    "print(len(list_of_countries))\n",
    "print(list_of_countries)\n",
    "\n",
    "#print(food_data.groupby([\"Area\"]).count().sum())\n",
    "food_data.nunique()"
   ]
  },
  {
   "cell_type": "code",
   "execution_count": 14,
   "id": "54bdba72",
   "metadata": {},
   "outputs": [
    {
     "name": "stderr",
     "output_type": "stream",
     "text": [
      "C:\\Users\\ESOMCHI\\AppData\\Local\\Temp\\ipykernel_2748\\9611846.py:6: FutureWarning: The error_bad_lines argument has been deprecated and will be removed in a future version. Use on_bad_lines in the future.\n",
      "\n",
      "\n",
      "  food_data = pd.read_csv(path, error_bad_lines=False, encoding=\"latin-1\")\n",
      "C:\\Users\\ESOMCHI\\AppData\\Local\\Temp\\ipykernel_2748\\9611846.py:6: DtypeWarning: Columns (2,4,7,8,9,10,11) have mixed types. Specify dtype option on import or set low_memory=False.\n",
      "  food_data = pd.read_csv(path, error_bad_lines=False, encoding=\"latin-1\")\n"
     ]
    },
    {
     "data": {
      "text/plain": [
       "<<<<<<< HEAD    8915\n",
       "dtype: int64"
      ]
     },
     "execution_count": 14,
     "metadata": {},
     "output_type": "execute_result"
    }
   ],
   "source": [
    "import numpy as np\n",
    "import pandas as pd\n",
    "\n",
    " #reading the csv file and initializing pandas dataframe\n",
    "path = \"FoodBalanceSheets_E_Africa_NOFLAG.csv\"\n",
    "food_data = pd.read_csv(path, error_bad_lines=False, encoding=\"latin-1\")\n",
    "food_data.nunique()"
   ]
  },
  {
   "cell_type": "code",
   "execution_count": null,
   "id": "64edc601",
   "metadata": {},
   "outputs": [],
   "source": []
  }
 ],
 "metadata": {
  "kernelspec": {
   "display_name": "Python 3 (ipykernel)",
   "language": "python",
   "name": "python3"
  },
  "language_info": {
   "codemirror_mode": {
    "name": "ipython",
    "version": 3
   },
   "file_extension": ".py",
   "mimetype": "text/x-python",
   "name": "python",
   "nbconvert_exporter": "python",
   "pygments_lexer": "ipython3",
   "version": "3.9.12"
  }
 },
 "nbformat": 4,
 "nbformat_minor": 5
}
